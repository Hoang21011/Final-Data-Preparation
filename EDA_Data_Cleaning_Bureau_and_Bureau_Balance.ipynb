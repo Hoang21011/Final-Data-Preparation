{
 "cells": [
  {
   "cell_type": "code",
   "execution_count": 1,
   "metadata": {},
   "outputs": [],
   "source": [
    "import numpy as np\n",
    "import matplotlib.pyplot as plt\n",
    "import pandas as pd"
   ]
  },
  {
   "cell_type": "code",
   "execution_count": 2,
   "metadata": {},
   "outputs": [],
   "source": [
    "from pandas.plotting import scatter_matrix\n",
    "import math"
   ]
  },
  {
   "cell_type": "code",
   "execution_count": 3,
   "metadata": {},
   "outputs": [],
   "source": [
    "from sklearn.impute import SimpleImputer"
   ]
  },
  {
   "cell_type": "markdown",
   "metadata": {},
   "source": [
    "# EDA - Bureau.csv"
   ]
  },
  {
   "cell_type": "code",
   "execution_count": 4,
   "metadata": {},
   "outputs": [],
   "source": [
    "description = pd.read_csv(r\"C:\\Users\\ADMIN\\Downloads\\dseb-64-data-preparation-final-project\\dseb63_columns_description.csv\", encoding = 'Latin-1')"
   ]
  },
  {
   "cell_type": "code",
   "execution_count": 5,
   "metadata": {},
   "outputs": [],
   "source": [
    "bureau = pd.read_csv(r\"C:\\Users\\ADMIN\\Downloads\\dseb-64-data-preparation-final-project\\dseb63_final_project_DP_dataset\\dseb63_final_project_DP_dataset\\dseb63_bureau.csv\")"
   ]
  },
  {
   "cell_type": "code",
   "execution_count": 6,
   "metadata": {},
   "outputs": [
    {
     "name": "stdout",
     "output_type": "stream",
     "text": [
      "SK_ID_BUREAU:  \n",
      "CREDIT_ACTIVE: Status of the Credit Bureau (CB) reported credits \n",
      "CREDIT_CURRENCY: Recoded currency of the Credit Bureau credit \n",
      "DAYS_CREDIT: How many days before current application did client apply for Credit Bureau credit \n",
      "CREDIT_DAY_OVERDUE: Number of days past due on CB credit at the time of application for related loan in our sample \n",
      "DAYS_CREDIT_ENDDATE: Remaining duration of CB credit (in days) at the time of application in Home Credit \n",
      "DAYS_ENDDATE_FACT: Days since CB credit ended at the time of application in Home Credit (only for closed credit) \n",
      "AMT_CREDIT_MAX_OVERDUE: Maximal amount overdue on the Credit Bureau credit so far (at application date of loan in our sample) \n",
      "CNT_CREDIT_PROLONG: How many times was the Credit Bureau credit prolonged \n",
      "AMT_CREDIT_SUM: Current credit amount for the Credit Bureau credit \n",
      "AMT_CREDIT_SUM_DEBT: Current debt on Credit Bureau credit \n",
      "AMT_CREDIT_SUM_LIMIT: Current credit limit of credit card reported in Credit Bureau \n",
      "AMT_CREDIT_SUM_OVERDUE: Current amount overdue on Credit Bureau credit \n",
      "CREDIT_TYPE: Type of Credit Bureau credit (Car, cash,...) \n",
      "DAYS_CREDIT_UPDATE: How many days before loan application did last information about the Credit Bureau credit come \n",
      "AMT_ANNUITY: Loan annuityAnnuity of the Credit Bureau creditAnnuity of previous application \n",
      "SK_ID_CURR: ID of loan in our sampleID of loan in our sample - one loan in our sample can have 0,1,2 or more related previous credits in credit bureau ID of loan in our sampleID of loan in our sampleID of loan in our sampleID of loan in our sample \n"
     ]
    }
   ],
   "source": [
    "for col in bureau.columns:\n",
    "    \n",
    "    name = ''.join(description[description['Row'] == col]['Description'].values)\n",
    "    \n",
    "    print(f'{col}: {name} ')"
   ]
  },
  {
   "cell_type": "code",
   "execution_count": 7,
   "metadata": {},
   "outputs": [
    {
     "name": "stdout",
     "output_type": "stream",
     "text": [
      "<class 'pandas.core.frame.DataFrame'>\n",
      "RangeIndex: 1465325 entries, 0 to 1465324\n",
      "Data columns (total 17 columns):\n",
      " #   Column                  Non-Null Count    Dtype  \n",
      "---  ------                  --------------    -----  \n",
      " 0   SK_ID_BUREAU            1465325 non-null  int64  \n",
      " 1   CREDIT_ACTIVE           1465325 non-null  object \n",
      " 2   CREDIT_CURRENCY         1465325 non-null  object \n",
      " 3   DAYS_CREDIT             1465325 non-null  int64  \n",
      " 4   CREDIT_DAY_OVERDUE      1465325 non-null  int64  \n",
      " 5   DAYS_CREDIT_ENDDATE     1376227 non-null  float64\n",
      " 6   DAYS_ENDDATE_FACT       920652 non-null   float64\n",
      " 7   AMT_CREDIT_MAX_OVERDUE  516780 non-null   float64\n",
      " 8   CNT_CREDIT_PROLONG      1465325 non-null  int64  \n",
      " 9   AMT_CREDIT_SUM          1465322 non-null  float64\n",
      " 10  AMT_CREDIT_SUM_DEBT     1242231 non-null  float64\n",
      " 11  AMT_CREDIT_SUM_LIMIT    975655 non-null   float64\n",
      " 12  AMT_CREDIT_SUM_OVERDUE  1465325 non-null  float64\n",
      " 13  CREDIT_TYPE             1465325 non-null  object \n",
      " 14  DAYS_CREDIT_UPDATE      1465325 non-null  int64  \n",
      " 15  AMT_ANNUITY             335312 non-null   float64\n",
      " 16  SK_ID_CURR              1465325 non-null  int64  \n",
      "dtypes: float64(8), int64(6), object(3)\n",
      "memory usage: 190.1+ MB\n"
     ]
    }
   ],
   "source": [
    "bureau.info()"
   ]
  },
  {
   "cell_type": "code",
   "execution_count": 8,
   "metadata": {},
   "outputs": [
    {
     "data": {
      "text/html": [
       "<div>\n",
       "<style scoped>\n",
       "    .dataframe tbody tr th:only-of-type {\n",
       "        vertical-align: middle;\n",
       "    }\n",
       "\n",
       "    .dataframe tbody tr th {\n",
       "        vertical-align: top;\n",
       "    }\n",
       "\n",
       "    .dataframe thead th {\n",
       "        text-align: right;\n",
       "    }\n",
       "</style>\n",
       "<table border=\"1\" class=\"dataframe\">\n",
       "  <thead>\n",
       "    <tr style=\"text-align: right;\">\n",
       "      <th></th>\n",
       "      <th>SK_ID_BUREAU</th>\n",
       "      <th>CREDIT_ACTIVE</th>\n",
       "      <th>CREDIT_CURRENCY</th>\n",
       "      <th>DAYS_CREDIT</th>\n",
       "      <th>CREDIT_DAY_OVERDUE</th>\n",
       "      <th>DAYS_CREDIT_ENDDATE</th>\n",
       "      <th>DAYS_ENDDATE_FACT</th>\n",
       "      <th>AMT_CREDIT_MAX_OVERDUE</th>\n",
       "      <th>CNT_CREDIT_PROLONG</th>\n",
       "      <th>AMT_CREDIT_SUM</th>\n",
       "      <th>AMT_CREDIT_SUM_DEBT</th>\n",
       "      <th>AMT_CREDIT_SUM_LIMIT</th>\n",
       "      <th>AMT_CREDIT_SUM_OVERDUE</th>\n",
       "      <th>CREDIT_TYPE</th>\n",
       "      <th>DAYS_CREDIT_UPDATE</th>\n",
       "      <th>AMT_ANNUITY</th>\n",
       "      <th>SK_ID_CURR</th>\n",
       "    </tr>\n",
       "  </thead>\n",
       "  <tbody>\n",
       "    <tr>\n",
       "      <th>0</th>\n",
       "      <td>5714462</td>\n",
       "      <td>Closed</td>\n",
       "      <td>currency 1</td>\n",
       "      <td>-497</td>\n",
       "      <td>0</td>\n",
       "      <td>-153.0</td>\n",
       "      <td>-153.0</td>\n",
       "      <td>NaN</td>\n",
       "      <td>0</td>\n",
       "      <td>91323.0</td>\n",
       "      <td>0.0</td>\n",
       "      <td>NaN</td>\n",
       "      <td>0.0</td>\n",
       "      <td>Consumer credit</td>\n",
       "      <td>-131</td>\n",
       "      <td>NaN</td>\n",
       "      <td>254629</td>\n",
       "    </tr>\n",
       "    <tr>\n",
       "      <th>1</th>\n",
       "      <td>5714463</td>\n",
       "      <td>Active</td>\n",
       "      <td>currency 1</td>\n",
       "      <td>-208</td>\n",
       "      <td>0</td>\n",
       "      <td>1075.0</td>\n",
       "      <td>NaN</td>\n",
       "      <td>NaN</td>\n",
       "      <td>0</td>\n",
       "      <td>225000.0</td>\n",
       "      <td>171342.0</td>\n",
       "      <td>NaN</td>\n",
       "      <td>0.0</td>\n",
       "      <td>Credit card</td>\n",
       "      <td>-20</td>\n",
       "      <td>NaN</td>\n",
       "      <td>254629</td>\n",
       "    </tr>\n",
       "    <tr>\n",
       "      <th>2</th>\n",
       "      <td>5714464</td>\n",
       "      <td>Active</td>\n",
       "      <td>currency 1</td>\n",
       "      <td>-203</td>\n",
       "      <td>0</td>\n",
       "      <td>528.0</td>\n",
       "      <td>NaN</td>\n",
       "      <td>NaN</td>\n",
       "      <td>0</td>\n",
       "      <td>464323.5</td>\n",
       "      <td>NaN</td>\n",
       "      <td>NaN</td>\n",
       "      <td>0.0</td>\n",
       "      <td>Consumer credit</td>\n",
       "      <td>-16</td>\n",
       "      <td>NaN</td>\n",
       "      <td>254629</td>\n",
       "    </tr>\n",
       "    <tr>\n",
       "      <th>3</th>\n",
       "      <td>5714465</td>\n",
       "      <td>Active</td>\n",
       "      <td>currency 1</td>\n",
       "      <td>-203</td>\n",
       "      <td>0</td>\n",
       "      <td>NaN</td>\n",
       "      <td>NaN</td>\n",
       "      <td>NaN</td>\n",
       "      <td>0</td>\n",
       "      <td>90000.0</td>\n",
       "      <td>NaN</td>\n",
       "      <td>NaN</td>\n",
       "      <td>0.0</td>\n",
       "      <td>Credit card</td>\n",
       "      <td>-16</td>\n",
       "      <td>NaN</td>\n",
       "      <td>254629</td>\n",
       "    </tr>\n",
       "    <tr>\n",
       "      <th>4</th>\n",
       "      <td>5714466</td>\n",
       "      <td>Active</td>\n",
       "      <td>currency 1</td>\n",
       "      <td>-629</td>\n",
       "      <td>0</td>\n",
       "      <td>1197.0</td>\n",
       "      <td>NaN</td>\n",
       "      <td>77674.5</td>\n",
       "      <td>0</td>\n",
       "      <td>2700000.0</td>\n",
       "      <td>NaN</td>\n",
       "      <td>NaN</td>\n",
       "      <td>0.0</td>\n",
       "      <td>Consumer credit</td>\n",
       "      <td>-21</td>\n",
       "      <td>NaN</td>\n",
       "      <td>254629</td>\n",
       "    </tr>\n",
       "  </tbody>\n",
       "</table>\n",
       "</div>"
      ],
      "text/plain": [
       "   SK_ID_BUREAU CREDIT_ACTIVE CREDIT_CURRENCY  DAYS_CREDIT  \\\n",
       "0       5714462        Closed      currency 1         -497   \n",
       "1       5714463        Active      currency 1         -208   \n",
       "2       5714464        Active      currency 1         -203   \n",
       "3       5714465        Active      currency 1         -203   \n",
       "4       5714466        Active      currency 1         -629   \n",
       "\n",
       "   CREDIT_DAY_OVERDUE  DAYS_CREDIT_ENDDATE  DAYS_ENDDATE_FACT  \\\n",
       "0                   0               -153.0             -153.0   \n",
       "1                   0               1075.0                NaN   \n",
       "2                   0                528.0                NaN   \n",
       "3                   0                  NaN                NaN   \n",
       "4                   0               1197.0                NaN   \n",
       "\n",
       "   AMT_CREDIT_MAX_OVERDUE  CNT_CREDIT_PROLONG  AMT_CREDIT_SUM  \\\n",
       "0                     NaN                   0         91323.0   \n",
       "1                     NaN                   0        225000.0   \n",
       "2                     NaN                   0        464323.5   \n",
       "3                     NaN                   0         90000.0   \n",
       "4                 77674.5                   0       2700000.0   \n",
       "\n",
       "   AMT_CREDIT_SUM_DEBT  AMT_CREDIT_SUM_LIMIT  AMT_CREDIT_SUM_OVERDUE  \\\n",
       "0                  0.0                   NaN                     0.0   \n",
       "1             171342.0                   NaN                     0.0   \n",
       "2                  NaN                   NaN                     0.0   \n",
       "3                  NaN                   NaN                     0.0   \n",
       "4                  NaN                   NaN                     0.0   \n",
       "\n",
       "       CREDIT_TYPE  DAYS_CREDIT_UPDATE  AMT_ANNUITY  SK_ID_CURR  \n",
       "0  Consumer credit                -131          NaN      254629  \n",
       "1      Credit card                 -20          NaN      254629  \n",
       "2  Consumer credit                 -16          NaN      254629  \n",
       "3      Credit card                 -16          NaN      254629  \n",
       "4  Consumer credit                 -21          NaN      254629  "
      ]
     },
     "execution_count": 8,
     "metadata": {},
     "output_type": "execute_result"
    }
   ],
   "source": [
    "bureau.head()"
   ]
  },
  {
   "cell_type": "code",
   "execution_count": 9,
   "metadata": {},
   "outputs": [
    {
     "data": {
      "text/html": [
       "<div>\n",
       "<style scoped>\n",
       "    .dataframe tbody tr th:only-of-type {\n",
       "        vertical-align: middle;\n",
       "    }\n",
       "\n",
       "    .dataframe tbody tr th {\n",
       "        vertical-align: top;\n",
       "    }\n",
       "\n",
       "    .dataframe thead th {\n",
       "        text-align: right;\n",
       "    }\n",
       "</style>\n",
       "<table border=\"1\" class=\"dataframe\">\n",
       "  <thead>\n",
       "    <tr style=\"text-align: right;\">\n",
       "      <th></th>\n",
       "      <th>SK_ID_BUREAU</th>\n",
       "      <th>DAYS_CREDIT</th>\n",
       "      <th>CREDIT_DAY_OVERDUE</th>\n",
       "      <th>DAYS_CREDIT_ENDDATE</th>\n",
       "      <th>DAYS_ENDDATE_FACT</th>\n",
       "      <th>AMT_CREDIT_MAX_OVERDUE</th>\n",
       "      <th>CNT_CREDIT_PROLONG</th>\n",
       "      <th>AMT_CREDIT_SUM</th>\n",
       "      <th>AMT_CREDIT_SUM_DEBT</th>\n",
       "      <th>AMT_CREDIT_SUM_LIMIT</th>\n",
       "      <th>AMT_CREDIT_SUM_OVERDUE</th>\n",
       "      <th>DAYS_CREDIT_UPDATE</th>\n",
       "      <th>AMT_ANNUITY</th>\n",
       "      <th>SK_ID_CURR</th>\n",
       "    </tr>\n",
       "  </thead>\n",
       "  <tbody>\n",
       "    <tr>\n",
       "      <th>count</th>\n",
       "      <td>1.465325e+06</td>\n",
       "      <td>1.465325e+06</td>\n",
       "      <td>1.465325e+06</td>\n",
       "      <td>1.376227e+06</td>\n",
       "      <td>920652.000000</td>\n",
       "      <td>5.167800e+05</td>\n",
       "      <td>1.465325e+06</td>\n",
       "      <td>1.465322e+06</td>\n",
       "      <td>1.242231e+06</td>\n",
       "      <td>9.756550e+05</td>\n",
       "      <td>1.465325e+06</td>\n",
       "      <td>1.465325e+06</td>\n",
       "      <td>3.353120e+05</td>\n",
       "      <td>1.465325e+06</td>\n",
       "    </tr>\n",
       "    <tr>\n",
       "      <th>mean</th>\n",
       "      <td>5.890328e+06</td>\n",
       "      <td>-1.143600e+03</td>\n",
       "      <td>8.887612e-01</td>\n",
       "      <td>4.931322e+02</td>\n",
       "      <td>-1022.765286</td>\n",
       "      <td>3.942852e+03</td>\n",
       "      <td>7.278249e-03</td>\n",
       "      <td>3.516889e+05</td>\n",
       "      <td>1.358890e+05</td>\n",
       "      <td>6.363687e+03</td>\n",
       "      <td>4.010547e+01</td>\n",
       "      <td>-5.997869e+02</td>\n",
       "      <td>1.576301e+04</td>\n",
       "      <td>1.538762e+05</td>\n",
       "    </tr>\n",
       "    <tr>\n",
       "      <th>std</th>\n",
       "      <td>5.378271e+05</td>\n",
       "      <td>8.000200e+02</td>\n",
       "      <td>3.824707e+01</td>\n",
       "      <td>4.964905e+03</td>\n",
       "      <td>718.371749</td>\n",
       "      <td>2.196856e+05</td>\n",
       "      <td>1.026408e-01</td>\n",
       "      <td>1.078009e+06</td>\n",
       "      <td>6.756650e+05</td>\n",
       "      <td>4.543915e+04</td>\n",
       "      <td>6.273639e+03</td>\n",
       "      <td>7.371010e+02</td>\n",
       "      <td>2.681074e+05</td>\n",
       "      <td>8.889888e+04</td>\n",
       "    </tr>\n",
       "    <tr>\n",
       "      <th>min</th>\n",
       "      <td>5.000000e+06</td>\n",
       "      <td>-2.922000e+03</td>\n",
       "      <td>0.000000e+00</td>\n",
       "      <td>-4.206000e+04</td>\n",
       "      <td>-42023.000000</td>\n",
       "      <td>0.000000e+00</td>\n",
       "      <td>0.000000e+00</td>\n",
       "      <td>0.000000e+00</td>\n",
       "      <td>-4.705600e+06</td>\n",
       "      <td>-5.864061e+05</td>\n",
       "      <td>0.000000e+00</td>\n",
       "      <td>-4.194700e+04</td>\n",
       "      <td>0.000000e+00</td>\n",
       "      <td>0.000000e+00</td>\n",
       "    </tr>\n",
       "    <tr>\n",
       "      <th>25%</th>\n",
       "      <td>5.416944e+06</td>\n",
       "      <td>-1.671000e+03</td>\n",
       "      <td>0.000000e+00</td>\n",
       "      <td>-1.144000e+03</td>\n",
       "      <td>-1503.000000</td>\n",
       "      <td>0.000000e+00</td>\n",
       "      <td>0.000000e+00</td>\n",
       "      <td>5.116500e+04</td>\n",
       "      <td>0.000000e+00</td>\n",
       "      <td>0.000000e+00</td>\n",
       "      <td>0.000000e+00</td>\n",
       "      <td>-9.040000e+02</td>\n",
       "      <td>0.000000e+00</td>\n",
       "      <td>7.668500e+04</td>\n",
       "    </tr>\n",
       "    <tr>\n",
       "      <th>50%</th>\n",
       "      <td>5.856021e+06</td>\n",
       "      <td>-9.850000e+02</td>\n",
       "      <td>0.000000e+00</td>\n",
       "      <td>-3.340000e+02</td>\n",
       "      <td>-900.000000</td>\n",
       "      <td>0.000000e+00</td>\n",
       "      <td>0.000000e+00</td>\n",
       "      <td>1.246981e+05</td>\n",
       "      <td>0.000000e+00</td>\n",
       "      <td>0.000000e+00</td>\n",
       "      <td>0.000000e+00</td>\n",
       "      <td>-4.060000e+02</td>\n",
       "      <td>6.750000e+01</td>\n",
       "      <td>1.540400e+05</td>\n",
       "    </tr>\n",
       "    <tr>\n",
       "      <th>75%</th>\n",
       "      <td>6.363543e+06</td>\n",
       "      <td>-4.700000e+02</td>\n",
       "      <td>0.000000e+00</td>\n",
       "      <td>4.730000e+02</td>\n",
       "      <td>-427.000000</td>\n",
       "      <td>0.000000e+00</td>\n",
       "      <td>0.000000e+00</td>\n",
       "      <td>3.082500e+05</td>\n",
       "      <td>3.965400e+04</td>\n",
       "      <td>0.000000e+00</td>\n",
       "      <td>0.000000e+00</td>\n",
       "      <td>-3.300000e+01</td>\n",
       "      <td>1.399050e+04</td>\n",
       "      <td>2.308560e+05</td>\n",
       "    </tr>\n",
       "    <tr>\n",
       "      <th>max</th>\n",
       "      <td>6.843457e+06</td>\n",
       "      <td>0.000000e+00</td>\n",
       "      <td>2.792000e+03</td>\n",
       "      <td>3.119900e+04</td>\n",
       "      <td>0.000000</td>\n",
       "      <td>1.159872e+08</td>\n",
       "      <td>9.000000e+00</td>\n",
       "      <td>3.960000e+08</td>\n",
       "      <td>1.701000e+08</td>\n",
       "      <td>4.705600e+06</td>\n",
       "      <td>3.756681e+06</td>\n",
       "      <td>3.720000e+02</td>\n",
       "      <td>5.958668e+07</td>\n",
       "      <td>3.075090e+05</td>\n",
       "    </tr>\n",
       "  </tbody>\n",
       "</table>\n",
       "</div>"
      ],
      "text/plain": [
       "       SK_ID_BUREAU   DAYS_CREDIT  CREDIT_DAY_OVERDUE  DAYS_CREDIT_ENDDATE  \\\n",
       "count  1.465325e+06  1.465325e+06        1.465325e+06         1.376227e+06   \n",
       "mean   5.890328e+06 -1.143600e+03        8.887612e-01         4.931322e+02   \n",
       "std    5.378271e+05  8.000200e+02        3.824707e+01         4.964905e+03   \n",
       "min    5.000000e+06 -2.922000e+03        0.000000e+00        -4.206000e+04   \n",
       "25%    5.416944e+06 -1.671000e+03        0.000000e+00        -1.144000e+03   \n",
       "50%    5.856021e+06 -9.850000e+02        0.000000e+00        -3.340000e+02   \n",
       "75%    6.363543e+06 -4.700000e+02        0.000000e+00         4.730000e+02   \n",
       "max    6.843457e+06  0.000000e+00        2.792000e+03         3.119900e+04   \n",
       "\n",
       "       DAYS_ENDDATE_FACT  AMT_CREDIT_MAX_OVERDUE  CNT_CREDIT_PROLONG  \\\n",
       "count      920652.000000            5.167800e+05        1.465325e+06   \n",
       "mean        -1022.765286            3.942852e+03        7.278249e-03   \n",
       "std           718.371749            2.196856e+05        1.026408e-01   \n",
       "min        -42023.000000            0.000000e+00        0.000000e+00   \n",
       "25%         -1503.000000            0.000000e+00        0.000000e+00   \n",
       "50%          -900.000000            0.000000e+00        0.000000e+00   \n",
       "75%          -427.000000            0.000000e+00        0.000000e+00   \n",
       "max             0.000000            1.159872e+08        9.000000e+00   \n",
       "\n",
       "       AMT_CREDIT_SUM  AMT_CREDIT_SUM_DEBT  AMT_CREDIT_SUM_LIMIT  \\\n",
       "count    1.465322e+06         1.242231e+06          9.756550e+05   \n",
       "mean     3.516889e+05         1.358890e+05          6.363687e+03   \n",
       "std      1.078009e+06         6.756650e+05          4.543915e+04   \n",
       "min      0.000000e+00        -4.705600e+06         -5.864061e+05   \n",
       "25%      5.116500e+04         0.000000e+00          0.000000e+00   \n",
       "50%      1.246981e+05         0.000000e+00          0.000000e+00   \n",
       "75%      3.082500e+05         3.965400e+04          0.000000e+00   \n",
       "max      3.960000e+08         1.701000e+08          4.705600e+06   \n",
       "\n",
       "       AMT_CREDIT_SUM_OVERDUE  DAYS_CREDIT_UPDATE   AMT_ANNUITY    SK_ID_CURR  \n",
       "count            1.465325e+06        1.465325e+06  3.353120e+05  1.465325e+06  \n",
       "mean             4.010547e+01       -5.997869e+02  1.576301e+04  1.538762e+05  \n",
       "std              6.273639e+03        7.371010e+02  2.681074e+05  8.889888e+04  \n",
       "min              0.000000e+00       -4.194700e+04  0.000000e+00  0.000000e+00  \n",
       "25%              0.000000e+00       -9.040000e+02  0.000000e+00  7.668500e+04  \n",
       "50%              0.000000e+00       -4.060000e+02  6.750000e+01  1.540400e+05  \n",
       "75%              0.000000e+00       -3.300000e+01  1.399050e+04  2.308560e+05  \n",
       "max              3.756681e+06        3.720000e+02  5.958668e+07  3.075090e+05  "
      ]
     },
     "execution_count": 9,
     "metadata": {},
     "output_type": "execute_result"
    }
   ],
   "source": [
    "bureau.describe()"
   ]
  },
  {
   "cell_type": "markdown",
   "metadata": {},
   "source": [
    "Column \"CREDIT_DAY_OVERDUE\" has a huge maximum number compared to its distribution.   \n",
    "Column \"DAYS_CREDIT_ENDATE\" has null values. Also huge difference between maximum numbers and minimum number.  \n",
    "Column \"DAYS_ENDDATE_FACT\" has considerable number of null values,huge std, extremely small min.  \n",
    "Column \"AMT_CREDIT_MAX_OVERDUE\" has lots of null values, hufe std, and large max.  \n",
    "Column \"CNT_CREDIT_PROLONG\" has huge max.  \n",
    "Column \"AMT_CREDIT_SUM\" has large std, comparably small min and high max.  \n",
    "Column \"AMT_CREDIT_SUM_DEBT\" has high stat of std, small min and high 75% cap as well as max.  \n",
    "Column \"AMT_CREDIT_SUM_LIMIT\" has null values, small min and high max.  \n",
    "Column \"AMT_CREDIT_SUM_OVERDUE\" has high max values.  \n",
    "Column \"DAYS_CREDIT_UPDATE\" has small min and huge max value.  \n",
    "Column \"AMT_ANNUITY\" has high cap 75% and max value.  "
   ]
  },
  {
   "cell_type": "code",
   "execution_count": 10,
   "metadata": {},
   "outputs": [
    {
     "name": "stdout",
     "output_type": "stream",
     "text": [
      "CREDIT_ACTIVE: CREDIT_ACTIVE\n",
      "Closed      917733\n",
      "Active      541919\n",
      "Sold          5653\n",
      "Bad debt        20\n",
      "Name: count, dtype: int64\n",
      "CREDIT_CURRENCY: CREDIT_CURRENCY\n",
      "currency 1    1464094\n",
      "currency 2       1072\n",
      "currency 3        150\n",
      "currency 4          9\n",
      "Name: count, dtype: int64\n",
      "CREDIT_TYPE: CREDIT_TYPE\n",
      "Consumer credit                                 1069610\n",
      "Credit card                                      343853\n",
      "Car loan                                          23757\n",
      "Mortgage                                          15607\n",
      "Microloan                                          9005\n",
      "Loan for business development                      1721\n",
      "Another type of loan                                854\n",
      "Unknown type of loan                                472\n",
      "Loan for working capital replenishment              377\n",
      "Real estate loan                                     23\n",
      "Cash loan (non-earmarked)                            23\n",
      "Loan for the purchase of equipment                   17\n",
      "Loan for purchase of shares (margin lending)          4\n",
      "Mobile operator loan                                  1\n",
      "Interbank credit                                      1\n",
      "Name: count, dtype: int64\n"
     ]
    }
   ],
   "source": [
    "# Check values in categorical column\n",
    "for col in bureau.columns:\n",
    "    if bureau[col].dtype == 'object':\n",
    "        print(f\"{col}: {bureau[col].value_counts()}\")"
   ]
  },
  {
   "cell_type": "markdown",
   "metadata": {},
   "source": [
    "Column like 'CREDIT_DAY_OVERDUE', 'AMT_CREDIT_MAX_OVERDUE', 'CNT_CREDIT_PROLONG', 'AMT_CREDIT_SUM', 'AMT_CREDIT_SUM_DEBT', 'AMT_CREDIT_SUM_LIMIT', 'AMT_CREDIT_SUM_OVERDUE', 'AMT_ANNUITY' only appear in first bin.\n",
    "Column \"DAYS_CREDIT_ENDDATE\" has some outliers in the right.\n"
   ]
  },
  {
   "cell_type": "markdown",
   "metadata": {},
   "source": [
    "There isnt any correlation in the dataset"
   ]
  },
  {
   "cell_type": "markdown",
   "metadata": {},
   "source": [
    "# CLEANING DATA"
   ]
  },
  {
   "cell_type": "markdown",
   "metadata": {},
   "source": [
    "## REMOVE OUTLIERS"
   ]
  },
  {
   "cell_type": "code",
   "execution_count": 11,
   "metadata": {},
   "outputs": [],
   "source": [
    "# Create a function to remove outlier   \n",
    "def find_outliers(data, whisker_coeff = 1.5):\n",
    "    Q1 = data.quantile(0.25)\n",
    "    Q3 = data.quantile(0.75)                \n",
    "    IQR = Q3 - Q1                                   \n",
    "    lower = Q1 - whisker_coeff * IQR\n",
    "    upper = Q3 + whisker_coeff * IQR\n",
    "    return lower, upper\n",
    "\n",
    "class RemoveOuliers():\n",
    "    def __init__(self, whisker_coeff = 1.5):\n",
    "        self.whisker = whisker_coeff\n",
    "        self.lower = None\n",
    "        self.upper = None\n",
    "    def fit(self, X: pd.Series):\n",
    "        self.lower, self.upper = find_outliers(X, self.whisker)\n",
    "    def transform(self, X):\n",
    "        return X.clip(self.lower, self.upper)"
   ]
  },
  {
   "cell_type": "code",
   "execution_count": 12,
   "metadata": {},
   "outputs": [],
   "source": [
    "# remove outliers in each columns\n",
    "for col in bureau.columns:\n",
    "    if bureau[col].dtype != 'object':\n",
    "        remove = RemoveOuliers()\n",
    "        remove.fit(bureau[col])\n",
    "        bureau[col] = remove.transform(bureau[col])\n",
    "        "
   ]
  },
  {
   "cell_type": "markdown",
   "metadata": {},
   "source": [
    "## DEAL WITH MISSING VALUE"
   ]
  },
  {
   "cell_type": "code",
   "execution_count": 13,
   "metadata": {},
   "outputs": [
    {
     "data": {
      "text/plain": [
       "SK_ID_BUREAU              100.000000\n",
       "CREDIT_ACTIVE             100.000000\n",
       "CREDIT_CURRENCY           100.000000\n",
       "DAYS_CREDIT               100.000000\n",
       "CREDIT_DAY_OVERDUE        100.000000\n",
       "DAYS_CREDIT_ENDDATE        93.919574\n",
       "DAYS_ENDDATE_FACT          62.829202\n",
       "AMT_CREDIT_MAX_OVERDUE     35.267262\n",
       "CNT_CREDIT_PROLONG        100.000000\n",
       "AMT_CREDIT_SUM             99.999795\n",
       "AMT_CREDIT_SUM_DEBT        84.775118\n",
       "AMT_CREDIT_SUM_LIMIT       66.582840\n",
       "AMT_CREDIT_SUM_OVERDUE    100.000000\n",
       "CREDIT_TYPE               100.000000\n",
       "DAYS_CREDIT_UPDATE        100.000000\n",
       "AMT_ANNUITY                22.883115\n",
       "SK_ID_CURR                100.000000\n",
       "dtype: float64"
      ]
     },
     "execution_count": 13,
     "metadata": {},
     "output_type": "execute_result"
    }
   ],
   "source": [
    "# Percentage of null values in each columns\n",
    "bureau.count() / len(bureau) * 100"
   ]
  },
  {
   "cell_type": "code",
   "execution_count": 14,
   "metadata": {},
   "outputs": [],
   "source": [
    "# Fill in null values\n",
    "columns2 = [\"DAYS_CREDIT_ENDDATE\",\"DAYS_ENDDATE_FACT\", \"AMT_CREDIT_MAX_OVERDUE\", \"AMT_CREDIT_SUM\", \"AMT_CREDIT_SUM_DEBT\", \"AMT_CREDIT_SUM_LIMIT\", \"AMT_ANNUITY\"]\n",
    "for col in columns2:\n",
    "    if bureau[col].dtype == 'object':\n",
    "        imputer = SimpleImputer(strategy = 'most_frequent')\n",
    "        bureau[col] = imputer.fit_transform(bureau[[col]])\n",
    "    else:\n",
    "        imputer = SimpleImputer(strategy = 'mean')\n",
    "        bureau[col] = imputer.fit_transform(bureau[[col]])\n",
    "        "
   ]
  },
  {
   "cell_type": "code",
   "execution_count": 15,
   "metadata": {},
   "outputs": [
    {
     "data": {
      "text/plain": [
       "SK_ID_BUREAU              100.0\n",
       "CREDIT_ACTIVE             100.0\n",
       "CREDIT_CURRENCY           100.0\n",
       "DAYS_CREDIT               100.0\n",
       "CREDIT_DAY_OVERDUE        100.0\n",
       "DAYS_CREDIT_ENDDATE       100.0\n",
       "DAYS_ENDDATE_FACT         100.0\n",
       "AMT_CREDIT_MAX_OVERDUE    100.0\n",
       "CNT_CREDIT_PROLONG        100.0\n",
       "AMT_CREDIT_SUM            100.0\n",
       "AMT_CREDIT_SUM_DEBT       100.0\n",
       "AMT_CREDIT_SUM_LIMIT      100.0\n",
       "AMT_CREDIT_SUM_OVERDUE    100.0\n",
       "CREDIT_TYPE               100.0\n",
       "DAYS_CREDIT_UPDATE        100.0\n",
       "AMT_ANNUITY               100.0\n",
       "SK_ID_CURR                100.0\n",
       "dtype: float64"
      ]
     },
     "execution_count": 15,
     "metadata": {},
     "output_type": "execute_result"
    }
   ],
   "source": [
    "# New percentage of null values in each columns\n",
    "bureau.count() / len(bureau) * 100"
   ]
  },
  {
   "cell_type": "code",
   "execution_count": 16,
   "metadata": {},
   "outputs": [],
   "source": [
    "bureau.to_csv('D:/cleaned_bureau_ver1')"
   ]
  },
  {
   "cell_type": "markdown",
   "metadata": {},
   "source": [
    "# bureau_balance EDA"
   ]
  },
  {
   "cell_type": "code",
   "execution_count": 17,
   "metadata": {},
   "outputs": [],
   "source": [
    "bb = pd.read_csv(r\"C:\\Users\\ADMIN\\Downloads\\dseb-64-data-preparation-final-project\\dseb63_final_project_DP_dataset\\dseb63_final_project_DP_dataset\\dseb63_bureau_balance.csv\")"
   ]
  },
  {
   "cell_type": "code",
   "execution_count": 18,
   "metadata": {},
   "outputs": [
    {
     "name": "stdout",
     "output_type": "stream",
     "text": [
      "<class 'pandas.core.frame.DataFrame'>\n",
      "RangeIndex: 27299925 entries, 0 to 27299924\n",
      "Data columns (total 3 columns):\n",
      " #   Column          Dtype \n",
      "---  ------          ----- \n",
      " 0   SK_ID_BUREAU    int64 \n",
      " 1   MONTHS_BALANCE  int64 \n",
      " 2   STATUS          object\n",
      "dtypes: int64(2), object(1)\n",
      "memory usage: 624.8+ MB\n"
     ]
    }
   ],
   "source": [
    "bb.info()"
   ]
  },
  {
   "cell_type": "code",
   "execution_count": 19,
   "metadata": {},
   "outputs": [
    {
     "data": {
      "text/html": [
       "<div>\n",
       "<style scoped>\n",
       "    .dataframe tbody tr th:only-of-type {\n",
       "        vertical-align: middle;\n",
       "    }\n",
       "\n",
       "    .dataframe tbody tr th {\n",
       "        vertical-align: top;\n",
       "    }\n",
       "\n",
       "    .dataframe thead th {\n",
       "        text-align: right;\n",
       "    }\n",
       "</style>\n",
       "<table border=\"1\" class=\"dataframe\">\n",
       "  <thead>\n",
       "    <tr style=\"text-align: right;\">\n",
       "      <th></th>\n",
       "      <th>SK_ID_BUREAU</th>\n",
       "      <th>MONTHS_BALANCE</th>\n",
       "    </tr>\n",
       "  </thead>\n",
       "  <tbody>\n",
       "    <tr>\n",
       "      <th>count</th>\n",
       "      <td>2.729992e+07</td>\n",
       "      <td>2.729992e+07</td>\n",
       "    </tr>\n",
       "    <tr>\n",
       "      <th>mean</th>\n",
       "      <td>6.036297e+06</td>\n",
       "      <td>-3.074169e+01</td>\n",
       "    </tr>\n",
       "    <tr>\n",
       "      <th>std</th>\n",
       "      <td>4.923489e+05</td>\n",
       "      <td>2.386451e+01</td>\n",
       "    </tr>\n",
       "    <tr>\n",
       "      <th>min</th>\n",
       "      <td>5.001709e+06</td>\n",
       "      <td>-9.600000e+01</td>\n",
       "    </tr>\n",
       "    <tr>\n",
       "      <th>25%</th>\n",
       "      <td>5.730933e+06</td>\n",
       "      <td>-4.600000e+01</td>\n",
       "    </tr>\n",
       "    <tr>\n",
       "      <th>50%</th>\n",
       "      <td>6.070821e+06</td>\n",
       "      <td>-2.500000e+01</td>\n",
       "    </tr>\n",
       "    <tr>\n",
       "      <th>75%</th>\n",
       "      <td>6.431951e+06</td>\n",
       "      <td>-1.100000e+01</td>\n",
       "    </tr>\n",
       "    <tr>\n",
       "      <th>max</th>\n",
       "      <td>6.842888e+06</td>\n",
       "      <td>0.000000e+00</td>\n",
       "    </tr>\n",
       "  </tbody>\n",
       "</table>\n",
       "</div>"
      ],
      "text/plain": [
       "       SK_ID_BUREAU  MONTHS_BALANCE\n",
       "count  2.729992e+07    2.729992e+07\n",
       "mean   6.036297e+06   -3.074169e+01\n",
       "std    4.923489e+05    2.386451e+01\n",
       "min    5.001709e+06   -9.600000e+01\n",
       "25%    5.730933e+06   -4.600000e+01\n",
       "50%    6.070821e+06   -2.500000e+01\n",
       "75%    6.431951e+06   -1.100000e+01\n",
       "max    6.842888e+06    0.000000e+00"
      ]
     },
     "execution_count": 19,
     "metadata": {},
     "output_type": "execute_result"
    }
   ],
   "source": [
    "bb.describe()"
   ]
  },
  {
   "cell_type": "code",
   "execution_count": 21,
   "metadata": {},
   "outputs": [
    {
     "data": {
      "text/plain": [
       "SK_ID_BUREAU      0.0\n",
       "MONTHS_BALANCE    0.0\n",
       "STATUS            0.0\n",
       "dtype: float64"
      ]
     },
     "execution_count": 21,
     "metadata": {},
     "output_type": "execute_result"
    }
   ],
   "source": [
    "bb.isnull().sum() / len(bb)"
   ]
  },
  {
   "cell_type": "markdown",
   "metadata": {},
   "source": [
    "From the information above, bureau_balance is already cleaned"
   ]
  }
 ],
 "metadata": {
  "kernelspec": {
   "display_name": "Python 3",
   "language": "python",
   "name": "python3"
  },
  "language_info": {
   "codemirror_mode": {
    "name": "ipython",
    "version": 3
   },
   "file_extension": ".py",
   "mimetype": "text/x-python",
   "name": "python",
   "nbconvert_exporter": "python",
   "pygments_lexer": "ipython3",
   "version": "3.12.0"
  }
 },
 "nbformat": 4,
 "nbformat_minor": 2
}
